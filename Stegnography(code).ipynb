{
 "cells": [
  {
   "cell_type": "code",
   "execution_count": null,
   "id": "785d0de7-8510-41fc-90eb-74cf71410550",
   "metadata": {},
   "outputs": [],
   "source": [
    "#import libraries\n",
    "import cv2\n",
    "import numpy\n",
    "import string\n",
    "import os\n",
    "import matplotlib.pyplot as plt"
   ]
  },
  {
   "cell_type": "code",
   "execution_count": null,
   "id": "add9b650-9909-422d-88a5-c3e57f8c5d68",
   "metadata": {},
   "outputs": [],
   "source": [
    "#ascii conversion\n",
    "d={chr(i):i for i in range(255)}#character to ascii\n",
    "c={i:chr(i) for i in range(255)}#ascii to character"
   ]
  },
  {
   "cell_type": "code",
   "execution_count": 1,
   "id": "3ee1cbd8-ca12-4f87-b2e8-ef0c8bcf2557",
   "metadata": {},
   "outputs": [
    {
     "ename": "NameError",
     "evalue": "name 'cv2' is not defined",
     "output_type": "error",
     "traceback": [
      "\u001b[1;31m---------------------------------------------------------------------------\u001b[0m",
      "\u001b[1;31mNameError\u001b[0m                                 Traceback (most recent call last)",
      "Cell \u001b[1;32mIn[1], line 3\u001b[0m\n\u001b[0;32m      1\u001b[0m \u001b[38;5;66;03m#load the image\u001b[39;00m\n\u001b[0;32m      2\u001b[0m image_path\u001b[38;5;241m=\u001b[39m\u001b[38;5;124mr\u001b[39m\u001b[38;5;124m\"\u001b[39m\u001b[38;5;124mC:\u001b[39m\u001b[38;5;124m\\\u001b[39m\u001b[38;5;124mUsers\u001b[39m\u001b[38;5;124m\\\u001b[39m\u001b[38;5;124mDELL\u001b[39m\u001b[38;5;124m\\\u001b[39m\u001b[38;5;124mDownloads\u001b[39m\u001b[38;5;124m\\\u001b[39m\u001b[38;5;124mcat.jpg\u001b[39m\u001b[38;5;124m\"\u001b[39m\n\u001b[1;32m----> 3\u001b[0m x\u001b[38;5;241m=\u001b[39mcv2\u001b[38;5;241m.\u001b[39mimread(image_path)\n",
      "\u001b[1;31mNameError\u001b[0m: name 'cv2' is not defined"
     ]
    }
   ],
   "source": [
    "#load the image\n",
    "image_path=r\"C:\\Users\\DELL\\Downloads\\cat.jpg\"\n",
    "x=cv2.imread(image_path)\n",
    "xrgb=cv2.cvtColor(x.cv2.COLOR_BGR2RBG)\n",
    "plt.imshow(xrgb)\n",
    "plt.axis('off')\n",
    "plt.show()"
   ]
  },
  {
   "cell_type": "code",
   "execution_count": null,
   "id": "262bc498-c0ae-423d-8a1b-8845c70d8ad3",
   "metadata": {},
   "outputs": [],
   "source": [
    "x.shape"
   ]
  },
  {
   "cell_type": "code",
   "execution_count": null,
   "id": "d7a90890-3ec7-46c1-9225-02640f529d92",
   "metadata": {},
   "outputs": [],
   "source": [
    "key=\"123\"\n",
    "text=\"secret\""
   ]
  },
  {
   "cell_type": "code",
   "execution_count": null,
   "id": "eb4c264c-7b6d-4217-8adc-98e95f879731",
   "metadata": {},
   "outputs": [],
   "source": [
    "key"
   ]
  },
  {
   "cell_type": "code",
   "execution_count": null,
   "id": "a29c7d12-772c-4544-ae37-dd14575ad872",
   "metadata": {},
   "outputs": [],
   "source": [
    "#ascii value\n",
    "text_ascii=[d[ch] for ch in text]#list of ascii value fo text characters\n",
    "key_ascii=[d[ch] for ch in key]\n",
    "print(text_ascii)\n",
    "print(key_ascii)"
   ]
  },
  {
   "cell_type": "code",
   "execution_count": null,
   "id": "689cfc3a-3a95-4395-b744-adbf73730613",
   "metadata": {},
   "outputs": [],
   "source": [
    "#encrypt using pixel for modelfication\n",
    "x_enc=x.copy()\n",
    "n=0#rows\n",
    "m=0#coloum\n",
    "z=0#pannel\n",
    "l=len(text)\n",
    "kl=0\n",
    "for i in range(1):\n",
    "    orig_val=x_enc[n,m,z]\n",
    "    new_val=d[text[i]]^d[key[kl]]\n",
    "    x_enc[n,m,z]=new_val\n",
    "    print(f\"Embedding '{text{i}'(ASCII{d[text[i]]}} XOR '{key[kl]}' (ASCII{d[key[kl]]})={new_val} at pixel ({n},{m},{z}) [original={orig_val}]\")\n",
    "    n=n+1\n",
    "    m=m+1\n",
    "    z=(z+1)%3\n",
    "    m=(m+1)%3\n",
    "    kl=(kl+1)%len(key)"
   ]
  },
  {
   "cell_type": "code",
   "execution_count": null,
   "id": "94e615b6-e393-4e04-b211-8ebadd386224",
   "metadata": {},
   "outputs": [],
   "source": [
    "\n",
    "cv2.iwrite(\"encrypt.jpg\",x_enc)"
   ]
  },
  {
   "cell_type": "code",
   "execution_count": null,
   "id": "649f8e6d-2693-436f-8f52-2a8e893d3be0",
   "metadata": {},
   "outputs": [],
   "source": [
    "plt.imshow(cv2.cvtColor(x_enc,cv2.COLOR_BGR2RGB))\n",
    "plt.title(\"Encrypted_Image\")\n",
    "plt.axis('off')\n",
    "plt.show()"
   ]
  },
  {
   "cell_type": "code",
   "execution_count": null,
   "id": "ab911ad4-a2cc-44fd-be4d-7b728a0a1b0e",
   "metadata": {},
   "outputs": [],
   "source": [
    "#decrypt\n",
    "n,m,z=0,0,0\n",
    "kl=0\n",
    "decrypt=\"\"\n",
    "for i in range(1):\n",
    "    var=x_enc[n,m,z]\n",
    "    orig_char=c[val^d[key[kl]]]\n",
    "    decrypt=decrypt+orig_char\n",
    "    orig_val=x_enc[n,m,z]\n",
    "    \n",
    "    print(f\"Decrypting pixel ({n},{m},{z}:{val} XOR {d[key[kl]]}={val ^ d[key[kl]]} -> '{orig_char}'\")\n",
    "    \n",
    "    n=n+1\n",
    "    m=m+1\n",
    "    m=(m+1)%3\n",
    "    z=(z+1)%3\n",
    "    kl=(kl+1)%len(key)\n",
    "print(decrypt)"
   ]
  }
 ],
 "metadata": {
  "kernelspec": {
   "display_name": "Python 3 (ipykernel)",
   "language": "python",
   "name": "python3"
  },
  "language_info": {
   "codemirror_mode": {
    "name": "ipython",
    "version": 3
   },
   "file_extension": ".py",
   "mimetype": "text/x-python",
   "name": "python",
   "nbconvert_exporter": "python",
   "pygments_lexer": "ipython3",
   "version": "3.12.7"
  }
 },
 "nbformat": 4,
 "nbformat_minor": 5
}
